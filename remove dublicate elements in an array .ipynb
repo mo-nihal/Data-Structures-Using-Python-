{
 "cells": [
  {
   "cell_type": "code",
   "execution_count": 1,
   "id": "708b5e0a-34dd-481f-8cfd-146911533691",
   "metadata": {},
   "outputs": [
    {
     "data": {
      "text/plain": [
       "list"
      ]
     },
     "execution_count": 1,
     "metadata": {},
     "output_type": "execute_result"
    }
   ],
   "source": [
    "#find the remove duplicate elements in an array\n",
    "import numpy as np\n",
    "x=np.array([10,20,30,40,50])\n",
    "def r_dup(x):\n",
    "    new_arr=[]\n",
    "    for i in x:\n",
    "        if i not in new_arr:\n",
    "            new_arr.append(i)\n",
    "        return new_arr\n",
    "result=r_dup(x)\n",
    "type(result)"
   ]
  },
  {
   "cell_type": "code",
   "execution_count": null,
   "id": "1e0677d2-bd71-421c-8109-2c4fa92d8db6",
   "metadata": {},
   "outputs": [],
   "source": []
  }
 ],
 "metadata": {
  "kernelspec": {
   "display_name": "Python 3 (ipykernel)",
   "language": "python",
   "name": "python3"
  },
  "language_info": {
   "codemirror_mode": {
    "name": "ipython",
    "version": 3
   },
   "file_extension": ".py",
   "mimetype": "text/x-python",
   "name": "python",
   "nbconvert_exporter": "python",
   "pygments_lexer": "ipython3",
   "version": "3.12.7"
  }
 },
 "nbformat": 4,
 "nbformat_minor": 5
}
