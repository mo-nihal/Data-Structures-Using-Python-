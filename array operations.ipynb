{
 "cells": [
  {
   "cell_type": "code",
   "execution_count": 3,
   "id": "1b8c2c45-7b69-4455-a034-98ec54fc17ff",
   "metadata": {},
   "outputs": [
    {
     "name": "stdout",
     "output_type": "stream",
     "text": [
      "10\n",
      "20\n",
      "30\n",
      "40\n",
      "50\n"
     ]
    }
   ],
   "source": [
    "import array as arr\n",
    "x=arr.array('i',[10,20,30,40,50])\n",
    "for i in x:\n",
    "   print(i)"
   ]
  },
  {
   "cell_type": "code",
   "execution_count": 5,
   "id": "dfba3bbe-f28d-42d3-8c10-977681ad775d",
   "metadata": {},
   "outputs": [
    {
     "name": "stdout",
     "output_type": "stream",
     "text": [
      "10\n",
      "20\n",
      "30\n",
      "40\n",
      "50\n"
     ]
    }
   ],
   "source": [
    "import numpy as np\n",
    "y=np.array([10,20,30,40,50])\n",
    "for i in y:\n",
    "    print(i)"
   ]
  },
  {
   "cell_type": "code",
   "execution_count": 7,
   "id": "d246300d-66d0-4676-8ddf-4b9933840ff1",
   "metadata": {},
   "outputs": [
    {
     "name": "stdout",
     "output_type": "stream",
     "text": [
      "array('i', [10, 20, 80, 30, 40, 50])\n"
     ]
    }
   ],
   "source": [
    "#Array operations\n",
    "import array as arr\n",
    "x=arr.array('i',[10,20,30,40,50])\n",
    "x.insert(2,80) # insert operations\n",
    "print(x)"
   ]
  },
  {
   "cell_type": "code",
   "execution_count": 15,
   "id": "f391cb6e-c5e0-4b78-b89c-2f094d0f17bc",
   "metadata": {},
   "outputs": [
    {
     "name": "stdout",
     "output_type": "stream",
     "text": [
      "[ 10  20 100  30  40  50]\n"
     ]
    }
   ],
   "source": [
    "import numpy as np\n",
    "y = np.array([10,20,30,40,50])\n",
    "z = np.insert(y,2,100)\n",
    "print(z)"
   ]
  },
  {
   "cell_type": "code",
   "execution_count": 19,
   "id": "cae1a3b2-c26c-4b97-a02f-3a02d88fffec",
   "metadata": {},
   "outputs": [
    {
     "name": "stdout",
     "output_type": "stream",
     "text": [
      "array('i', [10, 20, 30, 50])\n"
     ]
    }
   ],
   "source": [
    "#Array Operations\n",
    "import array as arr\n",
    "x=arr.array('i',[10,20,30,40,50])\n",
    "x.remove(40) #remove operation\n",
    "print(x)"
   ]
  },
  {
   "cell_type": "code",
   "execution_count": 13,
   "id": "8f0430f5-9d08-44d1-9d6d-f8f90188ba7e",
   "metadata": {},
   "outputs": [
    {
     "name": "stdout",
     "output_type": "stream",
     "text": [
      "3\n"
     ]
    }
   ],
   "source": [
    "print(x.index(50)) #search operation"
   ]
  },
  {
   "cell_type": "code",
   "execution_count": 17,
   "id": "65c1616d-c149-4ca6-bfc3-36be2bd5c32d",
   "metadata": {},
   "outputs": [
    {
     "name": "stdout",
     "output_type": "stream",
     "text": [
      "array('i', [100, 20, 300, 50])\n"
     ]
    }
   ],
   "source": [
    "#update operation\n",
    "x[0]=100\n",
    "print(x)"
   ]
  },
  {
   "cell_type": "code",
   "execution_count": null,
   "id": "2d966a97-bb96-48cf-86e1-84a766a7a4a9",
   "metadata": {},
   "outputs": [],
   "source": []
  }
 ],
 "metadata": {
  "kernelspec": {
   "display_name": "Python 3 (ipykernel)",
   "language": "python",
   "name": "python3"
  },
  "language_info": {
   "codemirror_mode": {
    "name": "ipython",
    "version": 3
   },
   "file_extension": ".py",
   "mimetype": "text/x-python",
   "name": "python",
   "nbconvert_exporter": "python",
   "pygments_lexer": "ipython3",
   "version": "3.12.7"
  }
 },
 "nbformat": 4,
 "nbformat_minor": 5
}
